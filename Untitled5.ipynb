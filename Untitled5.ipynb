{
  "nbformat": 4,
  "nbformat_minor": 0,
  "metadata": {
    "colab": {
      "provenance": [],
      "authorship_tag": "ABX9TyMok5uhe6oUKRryBrX5m91I",
      "include_colab_link": true
    },
    "kernelspec": {
      "name": "python3",
      "display_name": "Python 3"
    },
    "language_info": {
      "name": "python"
    }
  },
  "cells": [
    {
      "cell_type": "markdown",
      "metadata": {
        "id": "view-in-github",
        "colab_type": "text"
      },
      "source": [
        "<a href=\"https://colab.research.google.com/github/maksim-trotski/ShapeLibrary/blob/main/Untitled5.ipynb\" target=\"_parent\"><img src=\"https://colab.research.google.com/assets/colab-badge.svg\" alt=\"Open In Colab\"/></a>"
      ]
    },
    {
      "cell_type": "code",
      "execution_count": 14,
      "metadata": {
        "id": "qlZikDfU0loF"
      },
      "outputs": [],
      "source": [
        "from pyspark.sql import DataFrame\n",
        "from pyspark.sql.functions import col, lit\n",
        "\n",
        "from pyspark.sql import SparkSession"
      ]
    },
    {
      "cell_type": "code",
      "source": [
        "def get_product_category_pairs(\n",
        "    products_df: DataFrame,\n",
        "    categories_df: DataFrame,\n",
        "    product_category_links_df: DataFrame\n",
        ") -> DataFrame:\n",
        "    products_with_categories = (\n",
        "        products_df.join(\n",
        "            product_category_links_df,\n",
        "            on=\"product_id\",\n",
        "            how=\"left\"\n",
        "        )\n",
        "        .join(\n",
        "            categories_df,\n",
        "            on=\"category_id\",\n",
        "            how=\"left\"\n",
        "        )\n",
        "        .select(\n",
        "            col(\"product_name\"),\n",
        "            col(\"category_name\")\n",
        "        )\n",
        "    )\n",
        "\n",
        "    return products_with_categories"
      ],
      "metadata": {
        "id": "5AiwgEYp3Ar4"
      },
      "execution_count": 12,
      "outputs": []
    },
    {
      "cell_type": "code",
      "source": [
        "spark = SparkSession.builder.appName(\"ProductCategory\").getOrCreate()\n",
        "\n",
        "products_data = [(1, \"Product A\"), (2, \"Product B\"), (3, \"Product C\"), (4, \"Product D\")]\n",
        "products_df = spark.createDataFrame(products_data, [\"product_id\", \"product_name\"])\n",
        "\n",
        "categories_data = [(101, \"Category X\"), (102, \"Category Y\"), (103, \"Category Z\")]\n",
        "categories_df = spark.createDataFrame(categories_data, [\"category_id\", \"category_name\"])\n",
        "\n",
        "links_data = [(1, 101), (1, 102), (2, 101), (3, 103), (3, 101)]\n",
        "product_category_links_df = spark.createDataFrame(links_data, [\"product_id\", \"category_id\"])\n",
        "\n",
        "result_df = get_product_category_pairs(products_df, categories_df, product_category_links_df)\n",
        "\n",
        "result_df.show()"
      ],
      "metadata": {
        "colab": {
          "base_uri": "https://localhost:8080/"
        },
        "id": "scXvzIGI4Dlk",
        "outputId": "58cc37df-f4c9-4ad1-9c9a-c26e7dbda47f"
      },
      "execution_count": 13,
      "outputs": [
        {
          "output_type": "stream",
          "name": "stdout",
          "text": [
            "+------------+-------------+\n",
            "|product_name|category_name|\n",
            "+------------+-------------+\n",
            "|   Product D|         NULL|\n",
            "|   Product C|   Category Z|\n",
            "|   Product A|   Category X|\n",
            "|   Product B|   Category X|\n",
            "|   Product C|   Category X|\n",
            "|   Product A|   Category Y|\n",
            "+------------+-------------+\n",
            "\n"
          ]
        }
      ]
    }
  ]
}